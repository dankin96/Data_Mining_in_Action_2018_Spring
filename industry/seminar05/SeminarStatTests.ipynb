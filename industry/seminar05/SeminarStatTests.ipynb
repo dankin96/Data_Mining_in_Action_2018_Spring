{
 "cells": [
  {
   "cell_type": "code",
   "execution_count": 1,
   "metadata": {
    "collapsed": true
   },
   "outputs": [],
   "source": [
    "import numpy as np\n",
    "import scipy\n",
    "import matplotlib.pyplot as plt\n",
    "import scipy.stats\n",
    "import statsmodels\n",
    "import statsmodels.sandbox.stats.multicomp\n",
    "\n",
    "%matplotlib inline"
   ]
  },
  {
   "cell_type": "markdown",
   "metadata": {},
   "source": [
    "Сгенерируем данные с одинаковыми средними"
   ]
  },
  {
   "cell_type": "code",
   "execution_count": 2,
   "metadata": {
    "collapsed": true
   },
   "outputs": [],
   "source": [
    "data_fst = np.random.normal(10, 10, size=100)\n",
    "data_snd = np.random.normal(10, 1, size=100)"
   ]
  },
  {
   "cell_type": "markdown",
   "metadata": {},
   "source": [
    "Если мы посмотрим на средние значения выборок, то они конечно же будут различны"
   ]
  },
  {
   "cell_type": "code",
   "execution_count": 3,
   "metadata": {},
   "outputs": [
    {
     "name": "stdout",
     "output_type": "stream",
     "text": [
      "7.7967306227\n",
      "9.91835147992\n"
     ]
    }
   ],
   "source": [
    "print(data_fst.mean())\n",
    "print(data_snd.mean())"
   ]
  },
  {
   "cell_type": "markdown",
   "metadata": {},
   "source": [
    "Но если средние разные, то числа тоже могут не сильно отличаться"
   ]
  },
  {
   "cell_type": "code",
   "execution_count": 4,
   "metadata": {},
   "outputs": [
    {
     "name": "stdout",
     "output_type": "stream",
     "text": [
      "11.1614321935\n",
      "10.0099911361\n"
     ]
    }
   ],
   "source": [
    "data_fst = np.random.normal(10.5, 10, size=100)\n",
    "data_snd = np.random.normal(10, 1, size=100)\n",
    "\n",
    "print(data_fst.mean())\n",
    "print(data_snd.mean())"
   ]
  },
  {
   "cell_type": "markdown",
   "metadata": {},
   "source": [
    "# Использование ЦПТ"
   ]
  },
  {
   "cell_type": "markdown",
   "metadata": {},
   "source": [
    "### Можно воспользоваться ЦПТ и получить доверительный интервал для среднего"
   ]
  },
  {
   "cell_type": "markdown",
   "metadata": {},
   "source": [
    "#### Напоминание ЦПТ:\n",
    "Пусть $\\xi_1, \\xi_2, \\dots$ - независимые одинаково распределённые случайные величины с конечной дисперсией $D \\xi_1$ и мат. ожиданием $E \\xi_1$, тогда\n",
    "\n",
    "$\\sqrt{\\frac{n}{D \\xi_1}} \\left(\\frac{\\sum\\limits_{i=1}^{n} \\xi_i}{n} - E \\xi_1\\right) \\to_{n \\to \\infty} \\mathcal{N}(0, 1)$ \n",
    "\n",
    "Отсюда можно сделать вывод, что при больших $n$ величина $\\frac{\\sum\\limits_{i=1}^{n} \\xi_i}{n}$ будет распределена примерно как $\\mathcal{N}(E \\xi_1, \\frac{D \\xi_1}{n})$\n",
    "\n",
    "Если бы мы знали $D \\xi_1$, то отсюда можно получить интервал на $E \\xi_1$:\n",
    "$$\n",
    "P\\left(E \\xi_1 \\in \\left[\\frac{\\sum\\limits_{i=1}^{n} \\xi_i}{n} - 1.96 \\sqrt{\\frac{D \\xi_1}{n}}, \\frac{\\sum\\limits_{i=1}^{n} \\xi_i}{n} + 1.96 \\sqrt{\\frac{D \\xi_1}{n}}\\right]\\right) \\approx 0.95\n",
    "$$\n",
    "\n",
    "$D \\xi_1$ можно оценить по выборке"
   ]
  },
  {
   "cell_type": "code",
   "execution_count": 5,
   "metadata": {
    "collapsed": true
   },
   "outputs": [],
   "source": [
    "def get_95_interval(data, sigma=None):\n",
    "    mean = data.mean()\n",
    "    if sigma is None:\n",
    "        sigma = data.std()\n",
    "    err = sigma * 1.96 / np.sqrt(len(data))\n",
    "    return mean - err, mean + err"
   ]
  },
  {
   "cell_type": "markdown",
   "metadata": {},
   "source": [
    "Проверим, что нужное нам значение лежит в интервале с требуемой вероятностью"
   ]
  },
  {
   "cell_type": "code",
   "execution_count": 6,
   "metadata": {},
   "outputs": [
    {
     "name": "stdout",
     "output_type": "stream",
     "text": [
      "0.9474\n"
     ]
    }
   ],
   "source": [
    "hits = 0.\n",
    "count = 0.\n",
    "true_mean = 10.\n",
    "\n",
    "for _ in range(10000):\n",
    "    data = np.random.normal(true_mean, 10, size=100)\n",
    "    lower_bound, upper_bound = get_95_interval(data)\n",
    "    count += 1\n",
    "    if lower_bound <= true_mean <= upper_bound:\n",
    "        hits += 1\n",
    "        \n",
    "print(hits / count)"
   ]
  },
  {
   "cell_type": "markdown",
   "metadata": {},
   "source": [
    "Однако, если данных мало, то оценка неправильна"
   ]
  },
  {
   "cell_type": "code",
   "execution_count": 7,
   "metadata": {},
   "outputs": [
    {
     "name": "stdout",
     "output_type": "stream",
     "text": [
      "0.9085\n"
     ]
    }
   ],
   "source": [
    "hits = 0.\n",
    "count = 0.\n",
    "true_mean = 10.\n",
    "\n",
    "for _ in range(10000):\n",
    "    data = np.random.normal(true_mean, 10, size=10)\n",
    "    lower_bound, upper_bound = get_95_interval(data)\n",
    "    count += 1\n",
    "    if lower_bound <= true_mean <= upper_bound:\n",
    "        hits += 1\n",
    "        \n",
    "print(hits / count)"
   ]
  },
  {
   "cell_type": "markdown",
   "metadata": {},
   "source": [
    "Подставим реальное значение дисперсии и всё снова заработает"
   ]
  },
  {
   "cell_type": "code",
   "execution_count": 8,
   "metadata": {},
   "outputs": [
    {
     "name": "stdout",
     "output_type": "stream",
     "text": [
      "0.95\n"
     ]
    }
   ],
   "source": [
    "hits = 0.\n",
    "count = 0.\n",
    "true_mean = 10.\n",
    "\n",
    "for _ in range(10000):\n",
    "    data = np.random.normal(true_mean, 10, size=10)\n",
    "    lower_bound, upper_bound = get_95_interval(data, sigma=10)\n",
    "    count += 1\n",
    "    if lower_bound <= true_mean <= upper_bound:\n",
    "        hits += 1\n",
    "        \n",
    "print(hits / count)"
   ]
  },
  {
   "cell_type": "markdown",
   "metadata": {},
   "source": [
    "Итак, у нас две выборки с гигантской разницей в среднем"
   ]
  },
  {
   "cell_type": "code",
   "execution_count": 9,
   "metadata": {},
   "outputs": [
    {
     "name": "stdout",
     "output_type": "stream",
     "text": [
      "(9.0457028790971155, 13.627261824210324)\n",
      "(99.909300107678547, 100.35436560203033)\n"
     ]
    }
   ],
   "source": [
    "data_fst = np.random.normal(10.5, 10, size=100)\n",
    "data_snd = np.random.normal(100, 1, size=100)\n",
    "\n",
    "print(get_95_interval(data_fst))\n",
    "print(get_95_interval(data_snd))"
   ]
  },
  {
   "cell_type": "markdown",
   "metadata": {},
   "source": [
    "Конечно же интервалы не пересекаются"
   ]
  },
  {
   "cell_type": "markdown",
   "metadata": {},
   "source": [
    "Однако, если разница небольшая, то интервалы могут пересечься"
   ]
  },
  {
   "cell_type": "code",
   "execution_count": 10,
   "metadata": {},
   "outputs": [
    {
     "name": "stdout",
     "output_type": "stream",
     "text": [
      "(10.639482754987414, 12.400319592774936)\n",
      "(9.7692665212482268, 10.202995671840043)\n"
     ]
    }
   ],
   "source": [
    "data_fst = np.random.normal(11, 10, size=500)\n",
    "data_snd = np.random.normal(10, 1, size=100)\n",
    "\n",
    "print(get_95_interval(data_fst))\n",
    "print(get_95_interval(data_snd))"
   ]
  },
  {
   "cell_type": "markdown",
   "metadata": {},
   "source": [
    "Давайте посмотрим, как часто такой критерий (доверительные интервалы не пересекаются) будет находить различие в случае, если оно есть. В некотором смысле это мощность критерия"
   ]
  },
  {
   "cell_type": "code",
   "execution_count": 11,
   "metadata": {},
   "outputs": [
    {
     "name": "stdout",
     "output_type": "stream",
     "text": [
      "0.7155\n"
     ]
    }
   ],
   "source": [
    "hits = 0.\n",
    "count = 0.\n",
    "\n",
    "for _ in range(10000):\n",
    "    data_fst = np.random.normal(11, 10, size=1000)\n",
    "    data_snd = np.random.normal(10, 1, size=100)\n",
    "    \n",
    "    lower_fst, upper_fst = get_95_interval(data_fst)\n",
    "    lower_snd, upper_snd = get_95_interval(data_snd)\n",
    "    \n",
    "    count += 1\n",
    "    if not (lower_fst <= lower_snd <= upper_fst or lower_fst <= upper_snd <= upper_fst):\n",
    "        hits += 1\n",
    "\n",
    "print(hits / count)"
   ]
  },
  {
   "cell_type": "markdown",
   "metadata": {},
   "source": [
    "Также проверим, как часто различие будет обнаруживаться, если его нет"
   ]
  },
  {
   "cell_type": "code",
   "execution_count": 12,
   "metadata": {},
   "outputs": [
    {
     "name": "stdout",
     "output_type": "stream",
     "text": [
      "0.0148\n"
     ]
    }
   ],
   "source": [
    "hits = 0.\n",
    "count = 0.\n",
    "\n",
    "for _ in range(10000):\n",
    "    data_fst = np.random.normal(10, 10, size=1000)\n",
    "    data_snd = np.random.normal(10, 1, size=100)\n",
    "    \n",
    "    lower_fst, upper_fst = get_95_interval(data_fst)\n",
    "    lower_snd, upper_snd = get_95_interval(data_snd)\n",
    "    \n",
    "    count += 1\n",
    "    if not (lower_fst <= lower_snd <= upper_fst or lower_fst <= upper_snd <= upper_fst):\n",
    "        hits += 1\n",
    "\n",
    "print(hits / count)"
   ]
  },
  {
   "cell_type": "markdown",
   "metadata": {},
   "source": [
    "Также проверим, как часто различие будет обнаруживаться, если он есть, но очень маленький"
   ]
  },
  {
   "cell_type": "code",
   "execution_count": 13,
   "metadata": {},
   "outputs": [
    {
     "name": "stdout",
     "output_type": "stream",
     "text": [
      "0.0182\n"
     ]
    }
   ],
   "source": [
    "hits = 0.\n",
    "count = 0.\n",
    "\n",
    "for _ in range(10000):\n",
    "    data_fst = np.random.normal(10.1, 10, size=1000)\n",
    "    data_snd = np.random.normal(10, 1, size=100)\n",
    "    \n",
    "    lower_fst, upper_fst = get_95_interval(data_fst)\n",
    "    lower_snd, upper_snd = get_95_interval(data_snd)\n",
    "    \n",
    "    count += 1\n",
    "    if not (lower_fst <= lower_snd <= upper_fst or lower_fst <= upper_snd <= upper_fst):\n",
    "        hits += 1\n",
    "\n",
    "print(hits / count)"
   ]
  },
  {
   "cell_type": "markdown",
   "metadata": {},
   "source": [
    "У нас очень маленькая ошибка первого рода (правда мы хотели 0.05), но мощность тоже небольшая\n",
    "\n",
    "**Вывод**: этот способ очень прост, но можно использовать более мощные и подконтрольные критерии"
   ]
  },
  {
   "cell_type": "code",
   "execution_count": null,
   "metadata": {
    "collapsed": true
   },
   "outputs": [],
   "source": []
  },
  {
   "cell_type": "markdown",
   "metadata": {},
   "source": [
    "В простом варианте давайте вычтем две незавимых случайных величины друг из друга\n",
    "\n",
    "$\\mathcal{N}(a_1, \\sigma_1^2) - \\mathcal{N}(a_2, \\sigma_2^2) \\sim \\mathcal{N}(a_1 - a_2, \\sigma_1^2 + \\sigma_2^2)$ \n",
    "\n",
    "То есть в нашем случае $\\frac{\\sum\\limits_{i=1}^{n^1} \\xi_i^1}{n^1} - \\frac{\\sum\\limits_{i=1}^{n^2} \\xi_i^2}{n^2}$ будет распределена примерно как $\\mathcal{N}(E \\xi_1^1 - E \\xi_1^2, \\frac{D \\xi_1^1}{n^1} + \\frac{D \\xi_1^2}{n^2})$"
   ]
  },
  {
   "cell_type": "code",
   "execution_count": null,
   "metadata": {
    "collapsed": true
   },
   "outputs": [],
   "source": []
  },
  {
   "cell_type": "markdown",
   "metadata": {},
   "source": [
    "Проверим те же параметры, что и в предыдущем случае"
   ]
  },
  {
   "cell_type": "code",
   "execution_count": 14,
   "metadata": {},
   "outputs": [
    {
     "name": "stdout",
     "output_type": "stream",
     "text": [
      "0.8536\n"
     ]
    }
   ],
   "source": [
    "hits = 0.\n",
    "count = 0.\n",
    "\n",
    "for _ in range(10000):\n",
    "    data_fst = np.random.normal(11, 10, size=1000)\n",
    "    data_snd = np.random.normal(10, 1, size=100)\n",
    "    \n",
    "    stat = (\n",
    "        (data_fst.mean() - data_snd.mean()) \n",
    "        / \n",
    "        np.sqrt(1. * data_fst.std() ** 2 / len(data_fst) + 1. * data_snd.std() ** 2 / len(data_snd))\n",
    "    )\n",
    "\n",
    "    count += 1\n",
    "    if abs(stat) > 1.96:\n",
    "        hits += 1\n",
    "\n",
    "print(hits / count)"
   ]
  },
  {
   "cell_type": "code",
   "execution_count": 15,
   "metadata": {},
   "outputs": [
    {
     "name": "stdout",
     "output_type": "stream",
     "text": [
      "0.0466\n"
     ]
    }
   ],
   "source": [
    "hits = 0.\n",
    "count = 0.\n",
    "\n",
    "for _ in range(10000):\n",
    "    data_fst = np.random.normal(10, 10, size=1000)\n",
    "    data_snd = np.random.normal(10, 1, size=100)\n",
    "    \n",
    "    stat = (\n",
    "        (data_fst.mean() - data_snd.mean()) \n",
    "        / \n",
    "        np.sqrt(1. * data_fst.std() ** 2 / len(data_fst) + 1. * data_snd.std() ** 2 / len(data_snd))\n",
    "    )\n",
    "    count += 1\n",
    "    if abs(stat) > 1.96:\n",
    "        hits += 1\n",
    "\n",
    "print(hits / count)"
   ]
  },
  {
   "cell_type": "code",
   "execution_count": 16,
   "metadata": {},
   "outputs": [
    {
     "name": "stdout",
     "output_type": "stream",
     "text": [
      "0.0602\n"
     ]
    }
   ],
   "source": [
    "hits = 0.\n",
    "count = 0.\n",
    "\n",
    "for _ in range(10000):\n",
    "    data_fst = np.random.normal(10.1, 10, size=1000)\n",
    "    data_snd = np.random.normal(10, 1, size=100)\n",
    "    \n",
    "    stat = (\n",
    "        (data_fst.mean() - data_snd.mean()) \n",
    "        / \n",
    "        np.sqrt(1. * data_fst.std() ** 2 / len(data_fst) + 1. * data_snd.std() ** 2 / len(data_snd))\n",
    "    )\n",
    "    count += 1\n",
    "    if abs(stat) > 1.96:\n",
    "        hits += 1\n",
    "\n",
    "print(hits / count)"
   ]
  },
  {
   "cell_type": "markdown",
   "metadata": {},
   "source": [
    "Это уже более похоже на то, чего нам бы хотелось"
   ]
  },
  {
   "cell_type": "code",
   "execution_count": null,
   "metadata": {
    "collapsed": true
   },
   "outputs": [],
   "source": []
  },
  {
   "cell_type": "code",
   "execution_count": null,
   "metadata": {
    "collapsed": true
   },
   "outputs": [],
   "source": []
  },
  {
   "cell_type": "markdown",
   "metadata": {},
   "source": [
    "# SciPy tests"
   ]
  },
  {
   "cell_type": "markdown",
   "metadata": {},
   "source": [
    "Каждый раз писать такие критерии было чересчур, тем более в модуле scipy всё уже есть"
   ]
  },
  {
   "cell_type": "markdown",
   "metadata": {},
   "source": [
    "Вот например в scipy есть куча различных тестов, в которых уже все формулы написаны и надо просто вызвать функцию"
   ]
  },
  {
   "cell_type": "code",
   "execution_count": 17,
   "metadata": {},
   "outputs": [
    {
     "data": {
      "text/plain": [
       "0.78586714338721131"
      ]
     },
     "execution_count": 17,
     "metadata": {},
     "output_type": "execute_result"
    }
   ],
   "source": [
    "scipy.stats.ttest_ind(data_fst, data_snd).pvalue"
   ]
  },
  {
   "cell_type": "code",
   "execution_count": 18,
   "metadata": {},
   "outputs": [
    {
     "name": "stdout",
     "output_type": "stream",
     "text": [
      "0.0012\n"
     ]
    }
   ],
   "source": [
    "hits = 0.\n",
    "count = 0.\n",
    "\n",
    "for _ in range(10000):\n",
    "    data_fst = np.random.normal(11, 10, size=1000)\n",
    "    data_snd = np.random.normal(10, 1, size=100)\n",
    "\n",
    "    count += 1\n",
    "    if scipy.stats.ttest_ind(data_fst, data_snd).pvalue < 0.05:\n",
    "        hits += 1\n",
    "\n",
    "print(hits / count)"
   ]
  },
  {
   "cell_type": "code",
   "execution_count": 19,
   "metadata": {},
   "outputs": [
    {
     "name": "stdout",
     "output_type": "stream",
     "text": [
      "0.0\n"
     ]
    }
   ],
   "source": [
    "hits = 0.\n",
    "count = 0.\n",
    "\n",
    "for _ in range(10000):\n",
    "    data_fst = np.random.normal(10, 10, size=1000)\n",
    "    data_snd = np.random.normal(10, 1, size=100)\n",
    "\n",
    "    count += 1\n",
    "    if scipy.stats.ttest_ind(data_fst, data_snd).pvalue < 0.05:\n",
    "        hits += 1\n",
    "\n",
    "print(hits / count)"
   ]
  },
  {
   "cell_type": "markdown",
   "metadata": {},
   "source": [
    "сломалось("
   ]
  },
  {
   "cell_type": "code",
   "execution_count": 20,
   "metadata": {},
   "outputs": [
    {
     "name": "stdout",
     "output_type": "stream",
     "text": [
      "0.8557\n"
     ]
    }
   ],
   "source": [
    "hits = 0.\n",
    "count = 0.\n",
    "\n",
    "for _ in range(10000):\n",
    "    data_fst = np.random.normal(11, 10, size=1000)\n",
    "    data_snd = np.random.normal(10, 1, size=100)\n",
    "\n",
    "    count += 1\n",
    "    if scipy.stats.ttest_ind(data_fst, data_snd, equal_var=False).pvalue < 0.05:\n",
    "        hits += 1\n",
    "\n",
    "print(hits / count)"
   ]
  },
  {
   "cell_type": "code",
   "execution_count": 21,
   "metadata": {},
   "outputs": [
    {
     "name": "stdout",
     "output_type": "stream",
     "text": [
      "0.0516\n"
     ]
    }
   ],
   "source": [
    "hits = 0.\n",
    "count = 0.\n",
    "\n",
    "for _ in range(10000):\n",
    "    data_fst = np.random.normal(10, 10, size=1000)\n",
    "    data_snd = np.random.normal(10, 1, size=100)\n",
    "\n",
    "    count += 1\n",
    "    if scipy.stats.ttest_ind(data_fst, data_snd, equal_var=False).pvalue < 0.05:\n",
    "        hits += 1\n",
    "\n",
    "print(hits / count)"
   ]
  },
  {
   "cell_type": "markdown",
   "metadata": {},
   "source": [
    "Примерно как и ЦПТ, только не надо париться с формулами"
   ]
  },
  {
   "cell_type": "code",
   "execution_count": null,
   "metadata": {
    "collapsed": true
   },
   "outputs": [],
   "source": []
  },
  {
   "cell_type": "markdown",
   "metadata": {},
   "source": [
    "Давайте другой тест возьмём, например, Мана-Уитни"
   ]
  },
  {
   "cell_type": "code",
   "execution_count": 22,
   "metadata": {},
   "outputs": [
    {
     "name": "stdout",
     "output_type": "stream",
     "text": [
      "0.0988\n"
     ]
    }
   ],
   "source": [
    "hits = 0.\n",
    "count = 0.\n",
    "\n",
    "for _ in range(10000):\n",
    "    data_fst = np.random.normal(11, 10, size=1000)\n",
    "    data_snd = np.random.normal(10, 1, size=100)\n",
    "\n",
    "    count += 1\n",
    "    if scipy.stats.mannwhitneyu(data_fst, data_snd, alternative='two-sided').pvalue < 0.05:\n",
    "        hits += 1\n",
    "\n",
    "print(hits / count)"
   ]
  },
  {
   "cell_type": "code",
   "execution_count": 23,
   "metadata": {},
   "outputs": [
    {
     "name": "stdout",
     "output_type": "stream",
     "text": [
      "0.0004\n"
     ]
    }
   ],
   "source": [
    "hits = 0.\n",
    "count = 0.\n",
    "\n",
    "for _ in range(10000):\n",
    "    data_fst = np.random.normal(10, 10, size=1000)\n",
    "    data_snd = np.random.normal(10, 1, size=100)\n",
    "\n",
    "    count += 1\n",
    "    if scipy.stats.mannwhitneyu(data_fst, data_snd, alternative='two-sided').pvalue < 0.05:\n",
    "        hits += 1\n",
    "\n",
    "print(hits / count)"
   ]
  },
  {
   "cell_type": "code",
   "execution_count": 24,
   "metadata": {},
   "outputs": [
    {
     "name": "stdout",
     "output_type": "stream",
     "text": [
      "0.0001\n"
     ]
    }
   ],
   "source": [
    "hits = 0.\n",
    "count = 0.\n",
    "\n",
    "for _ in range(10000):\n",
    "    data_fst = np.random.normal(0, 10, size=1000)\n",
    "    data_snd = np.random.normal(0, 1, size=100)\n",
    "\n",
    "    count += 1\n",
    "    if scipy.stats.mannwhitneyu(data_fst, data_snd, alternative='two-sided').pvalue < 0.05:\n",
    "        hits += 1\n",
    "\n",
    "print(hits / count)"
   ]
  },
  {
   "cell_type": "markdown",
   "metadata": {},
   "source": [
    "Думаете всё сломалось? Нет, просто у этого критерия другая нулевая гипотеза!"
   ]
  },
  {
   "cell_type": "code",
   "execution_count": 25,
   "metadata": {},
   "outputs": [
    {
     "name": "stdout",
     "output_type": "stream",
     "text": [
      "0.0462\n"
     ]
    }
   ],
   "source": [
    "hits = 0.\n",
    "count = 0.\n",
    "\n",
    "for _ in range(10000):\n",
    "    data_fst = np.random.normal(0, 1, size=1000)\n",
    "    data_snd = np.random.normal(0, 1, size=100)\n",
    "\n",
    "    count += 1\n",
    "    if scipy.stats.mannwhitneyu(data_fst, data_snd, alternative='two-sided').pvalue < 0.05:\n",
    "        hits += 1\n",
    "\n",
    "print(hits / count)"
   ]
  },
  {
   "cell_type": "code",
   "execution_count": 26,
   "metadata": {},
   "outputs": [
    {
     "name": "stdout",
     "output_type": "stream",
     "text": [
      "1.0\n"
     ]
    }
   ],
   "source": [
    "hits = 0.\n",
    "count = 0.\n",
    "\n",
    "for _ in range(10000):\n",
    "    data_fst = np.random.normal(0, 1, size=1000)\n",
    "    data_snd = np.random.normal(1, 1, size=100)\n",
    "\n",
    "    count += 1\n",
    "    if scipy.stats.mannwhitneyu(data_fst, data_snd, alternative='two-sided').pvalue < 0.05:\n",
    "        hits += 1\n",
    "\n",
    "print(hits / count)"
   ]
  },
  {
   "cell_type": "code",
   "execution_count": null,
   "metadata": {
    "collapsed": true
   },
   "outputs": [],
   "source": []
  },
  {
   "cell_type": "markdown",
   "metadata": {},
   "source": [
    "# О смысле p-value, корректности и мощности"
   ]
  },
  {
   "cell_type": "code",
   "execution_count": 27,
   "metadata": {},
   "outputs": [
    {
     "data": {
      "image/png": "[encoded data removed]",
      "text/plain": [
       "<matplotlib.figure.Figure at 0x1a128baf98>"
      ]
     },
     "metadata": {},
     "output_type": "display_data"
    }
   ],
   "source": [
    "pvalues = []\n",
    "for _ in range(10000):\n",
    "    data_fst = np.random.normal(10, 10, size=100)\n",
    "    data_snd = np.random.normal(10, 1, size=100)\n",
    "    pvalues.append(scipy.stats.ttest_ind(data_fst, data_snd).pvalue)\n",
    "    \n",
    "plt.hist(pvalues)\n",
    "plt.show()"
   ]
  },
  {
   "cell_type": "markdown",
   "metadata": {},
   "source": [
    "Корректность критерия"
   ]
  },
  {
   "cell_type": "code",
   "execution_count": 28,
   "metadata": {},
   "outputs": [
    {
     "name": "stdout",
     "output_type": "stream",
     "text": [
      "0.0469\n"
     ]
    }
   ],
   "source": [
    "bad_pvalues = []\n",
    "for _ in range(10000):\n",
    "    data_fst = np.random.normal(10, 10, size=100)\n",
    "    data_snd = np.random.normal(10, 1, size=100)\n",
    "    bad_pvalues.append(scipy.stats.ttest_ind(data_fst, data_snd).pvalue < 0.05)\n",
    "    \n",
    "print(np.mean(bad_pvalues))"
   ]
  },
  {
   "cell_type": "markdown",
   "metadata": {},
   "source": [
    "Мощность критерия"
   ]
  },
  {
   "cell_type": "code",
   "execution_count": 29,
   "metadata": {},
   "outputs": [
    {
     "name": "stdout",
     "output_type": "stream",
     "text": [
      "0.1755\n"
     ]
    },
    {
     "data": {
      "image/png": "[encoded data removed]",
      "text/plain": [
       "<matplotlib.figure.Figure at 0x1a128baeb8>"
      ]
     },
     "metadata": {},
     "output_type": "display_data"
    }
   ],
   "source": [
    "pvalues = []\n",
    "for _ in range(10000):\n",
    "    data_fst = np.random.normal(11, 10, size=100)\n",
    "    data_snd = np.random.normal(10, 1, size=100)\n",
    "    pvalues.append(scipy.stats.ttest_ind(data_fst, data_snd).pvalue)\n",
    "    \n",
    "print((np.array(pvalues) < 0.05).mean())\n",
    "plt.hist(pvalues)\n",
    "plt.show()"
   ]
  },
  {
   "cell_type": "markdown",
   "metadata": {},
   "source": [
    "Усилим различие"
   ]
  },
  {
   "cell_type": "code",
   "execution_count": 30,
   "metadata": {},
   "outputs": [
    {
     "name": "stdout",
     "output_type": "stream",
     "text": [
      "0.5069\n"
     ]
    },
    {
     "data": {
      "image/png": "[encoded data removed]",
      "text/plain": [
       "<matplotlib.figure.Figure at 0x1a12a7eb00>"
      ]
     },
     "metadata": {},
     "output_type": "display_data"
    }
   ],
   "source": [
    "pvalues = []\n",
    "for _ in range(10000):\n",
    "    data_fst = np.random.normal(12, 10, size=100)\n",
    "    data_snd = np.random.normal(10, 1, size=100)\n",
    "    pvalues.append(scipy.stats.ttest_ind(data_fst, data_snd).pvalue)\n",
    "    \n",
    "print((np.array(pvalues) < 0.05).mean())\n",
    "plt.hist(pvalues)\n",
    "plt.show()"
   ]
  },
  {
   "cell_type": "markdown",
   "metadata": {},
   "source": [
    "Увеличим выборку"
   ]
  },
  {
   "cell_type": "code",
   "execution_count": null,
   "metadata": {
    "collapsed": true
   },
   "outputs": [],
   "source": [
    "pvalues = []\n",
    "for _ in range(10000):\n",
    "    data_fst = np.random.normal(11, 10, size=1000)\n",
    "    data_snd = np.random.normal(10, 1, size=1000)\n",
    "    pvalues.append(scipy.stats.ttest_ind(data_fst, data_snd).pvalue)\n",
    "    \n",
    "print((np.array(pvalues) < 0.05).mean())\n",
    "plt.hist(pvalues)\n",
    "plt.show()"
   ]
  },
  {
   "cell_type": "code",
   "execution_count": null,
   "metadata": {
    "collapsed": true
   },
   "outputs": [],
   "source": []
  },
  {
   "cell_type": "markdown",
   "metadata": {},
   "source": [
    "# Перестановочные тесты"
   ]
  },
  {
   "cell_type": "code",
   "execution_count": null,
   "metadata": {
    "collapsed": true
   },
   "outputs": [],
   "source": [
    "def my_test(data_fst, data_snd, iters=1000, plot=True):\n",
    "    data = np.array(list(data_fst) + list(data_snd))\n",
    "    size = len(data)\n",
    "    values = []\n",
    "    fst_ratio = len(data_fst) * 1. / size\n",
    "    for _ in range(iters):\n",
    "        mask = (np.random.random(size=size) < fst_ratio)\n",
    "        values.append(data[mask].mean() - data[~mask].mean())\n",
    "        \n",
    "    if plot:\n",
    "        plt.hist(values, bins=30)\n",
    "        plt.show()\n",
    "        \n",
    "    return (np.abs(values) > np.abs(data_fst.mean() - data_snd.mean())).mean()"
   ]
  },
  {
   "cell_type": "markdown",
   "metadata": {},
   "source": [
    "### Корректно ли такое применение?"
   ]
  },
  {
   "cell_type": "code",
   "execution_count": null,
   "metadata": {
    "collapsed": true
   },
   "outputs": [],
   "source": [
    "data_fst = np.random.normal(0, 10, size=100)\n",
    "data_snd = np.random.normal(0, 1, size=100)\n",
    "\n",
    "print(scipy.stats.ttest_ind(data_fst, data_snd).pvalue)\n",
    "print(my_test(data_fst, data_snd, iters=10))\n",
    "print(my_test(data_fst, data_snd, iters=100))\n",
    "print(my_test(data_fst, data_snd, iters=1000))\n",
    "print(my_test(data_fst, data_snd, iters=10000))"
   ]
  },
  {
   "cell_type": "code",
   "execution_count": null,
   "metadata": {
    "collapsed": true
   },
   "outputs": [],
   "source": [
    "data_fst = np.random.normal(0, 10, size=100)\n",
    "data_snd = np.random.normal(1, 1, size=100)\n",
    "\n",
    "print(scipy.stats.ttest_ind(data_fst, data_snd).pvalue)\n",
    "print(my_test(data_fst, data_snd, iters=10))\n",
    "print(my_test(data_fst, data_snd, iters=100))\n",
    "print(my_test(data_fst, data_snd, iters=1000))\n",
    "print(my_test(data_fst, data_snd, iters=10000))"
   ]
  },
  {
   "cell_type": "markdown",
   "metadata": {},
   "source": [
    "К сожалению нет :("
   ]
  },
  {
   "cell_type": "markdown",
   "metadata": {},
   "source": [
    "Давайте в этом убедимся :("
   ]
  },
  {
   "cell_type": "code",
   "execution_count": null,
   "metadata": {
    "collapsed": true
   },
   "outputs": [],
   "source": [
    "hits = 0.\n",
    "count = 0.\n",
    "\n",
    "for _ in range(1000):\n",
    "    data_fst = np.random.normal(11, 10, size=1000)\n",
    "    data_snd = np.random.normal(10, 1, size=100)\n",
    "\n",
    "    count += 1\n",
    "    if my_test(data_fst, data_snd, plot=False, iters=1000) < 0.05:\n",
    "        hits += 1\n",
    "\n",
    "print(hits / count)"
   ]
  },
  {
   "cell_type": "code",
   "execution_count": null,
   "metadata": {
    "collapsed": true
   },
   "outputs": [],
   "source": [
    "hits = 0.\n",
    "count = 0.\n",
    "\n",
    "for _ in range(1000):\n",
    "    data_fst = np.random.normal(10, 10, size=1000)\n",
    "    data_snd = np.random.normal(10, 1, size=100)\n",
    "\n",
    "    count += 1\n",
    "    if my_test(data_fst, data_snd, plot=False, iters=1000) < 0.05:\n",
    "        hits += 1\n",
    "\n",
    "print(hits / count)"
   ]
  },
  {
   "cell_type": "code",
   "execution_count": null,
   "metadata": {
    "collapsed": true
   },
   "outputs": [],
   "source": []
  },
  {
   "cell_type": "code",
   "execution_count": null,
   "metadata": {
    "collapsed": true
   },
   "outputs": [],
   "source": []
  },
  {
   "cell_type": "markdown",
   "metadata": {},
   "source": [
    "Как с Мана-Уитни, нулевая гипотеза это что распределения совпадают"
   ]
  },
  {
   "cell_type": "code",
   "execution_count": null,
   "metadata": {
    "collapsed": true
   },
   "outputs": [],
   "source": [
    "hits = 0.\n",
    "count = 0.\n",
    "\n",
    "for _ in range(1000):\n",
    "    data_fst = np.random.normal(11, 1, size=1000)\n",
    "    data_snd = np.random.normal(10, 1, size=100)\n",
    "\n",
    "    count += 1\n",
    "    if my_test(data_fst, data_snd, plot=False, iters=1000) < 0.05:\n",
    "        hits += 1\n",
    "\n",
    "print(hits / count)"
   ]
  },
  {
   "cell_type": "code",
   "execution_count": null,
   "metadata": {
    "collapsed": true
   },
   "outputs": [],
   "source": [
    "hits = 0.\n",
    "count = 0.\n",
    "\n",
    "for _ in range(1000):\n",
    "    data_fst = np.random.normal(10, 1, size=1000)\n",
    "    data_snd = np.random.normal(10, 1, size=100)\n",
    "\n",
    "    count += 1\n",
    "    if my_test(data_fst, data_snd, plot=False, iters=1000) < 0.05:\n",
    "        hits += 1\n",
    "\n",
    "print(hits / count)"
   ]
  },
  {
   "cell_type": "markdown",
   "metadata": {},
   "source": [
    "Вот это уже неплохо"
   ]
  },
  {
   "cell_type": "code",
   "execution_count": null,
   "metadata": {
    "collapsed": true
   },
   "outputs": [],
   "source": []
  },
  {
   "cell_type": "code",
   "execution_count": null,
   "metadata": {
    "collapsed": true
   },
   "outputs": [],
   "source": []
  },
  {
   "cell_type": "markdown",
   "metadata": {},
   "source": [
    "# Bootstap"
   ]
  },
  {
   "cell_type": "code",
   "execution_count": null,
   "metadata": {
    "collapsed": true
   },
   "outputs": [],
   "source": [
    "def my_bootstrap(data_fst, data_snd, iters=1000, plot=True):\n",
    "    values = []\n",
    "    for _ in range(iters):\n",
    "        values.append(\n",
    "            np.random.choice(data_fst, replace=True, size=len(data_fst)).mean()\n",
    "            -\n",
    "            np.random.choice(data_snd, replace=True, size=len(data_snd)).mean()\n",
    "        )\n",
    "        \n",
    "    if plot:\n",
    "        plt.hist(values, bins=30)\n",
    "        plt.show()\n",
    "        \n",
    "    return np.percentile(values, [2.5, 97.5])"
   ]
  },
  {
   "cell_type": "code",
   "execution_count": null,
   "metadata": {
    "collapsed": true
   },
   "outputs": [],
   "source": [
    "data_fst = np.random.normal(0, 10, size=1000)\n",
    "data_snd = np.random.normal(0, 1, size=100)\n",
    "\n",
    "print(scipy.stats.ttest_ind(data_fst, data_snd).pvalue)\n",
    "print(my_bootstrap(data_fst, data_snd, iters=1000, plot=True))"
   ]
  },
  {
   "cell_type": "code",
   "execution_count": null,
   "metadata": {
    "collapsed": true
   },
   "outputs": [],
   "source": [
    "data_fst = np.random.normal(1, 10, size=1000)\n",
    "data_snd = np.random.normal(0, 1, size=100)\n",
    "\n",
    "print(scipy.stats.ttest_ind(data_fst, data_snd).pvalue)\n",
    "print(my_bootstrap(data_fst, data_snd, iters=1000, plot=True))"
   ]
  },
  {
   "cell_type": "code",
   "execution_count": null,
   "metadata": {
    "collapsed": true
   },
   "outputs": [],
   "source": []
  },
  {
   "cell_type": "code",
   "execution_count": null,
   "metadata": {
    "collapsed": true
   },
   "outputs": [],
   "source": []
  },
  {
   "cell_type": "code",
   "execution_count": null,
   "metadata": {
    "collapsed": true
   },
   "outputs": [],
   "source": [
    "hits = 0.\n",
    "count = 0.\n",
    "\n",
    "for _ in range(1000):\n",
    "    data_fst = np.random.normal(11, 10, size=1000)\n",
    "    data_snd = np.random.normal(10, 1, size=100)\n",
    "\n",
    "    lower, upper = my_bootstrap(data_fst, data_snd, plot=False, iters=1000)\n",
    "    count += 1\n",
    "    if not (lower < 0 < upper):\n",
    "        hits += 1\n",
    "\n",
    "print(hits / count)"
   ]
  },
  {
   "cell_type": "code",
   "execution_count": null,
   "metadata": {
    "collapsed": true
   },
   "outputs": [],
   "source": [
    "hits = 0.\n",
    "count = 0.\n",
    "\n",
    "for _ in range(1000):\n",
    "    data_fst = np.random.normal(10, 10, size=1000)\n",
    "    data_snd = np.random.normal(10, 1, size=100)\n",
    "\n",
    "    lower, upper = my_bootstrap(data_fst, data_snd, plot=False, iters=1000)\n",
    "    count += 1\n",
    "    if not (lower < 0 < upper):\n",
    "        hits += 1\n",
    "\n",
    "print(hits / count)"
   ]
  },
  {
   "cell_type": "code",
   "execution_count": null,
   "metadata": {
    "collapsed": true
   },
   "outputs": [],
   "source": []
  },
  {
   "cell_type": "code",
   "execution_count": null,
   "metadata": {
    "collapsed": true
   },
   "outputs": [],
   "source": []
  },
  {
   "cell_type": "markdown",
   "metadata": {},
   "source": [
    "# Задание\n",
    "\n",
    "1. Проверьте как будет работать ЦПТ для для бернулевских (scipy.stats.bernoulli) на маленьких выборках (до 10 элементов). Можно ли в этом случае более точно нулевое распределение подсчитать?\n",
    "2. Протестируйте bootstrap (мощность и корректность), но добавьте в первую выборку два выброса - [-1000000, -1000000]. Сравните с поведением перестановочного теста в той же ситуации. Почему так получается?"
   ]
  },
  {
   "cell_type": "code",
   "execution_count": null,
   "metadata": {
    "collapsed": true
   },
   "outputs": [],
   "source": []
  },
  {
   "cell_type": "code",
   "execution_count": null,
   "metadata": {
    "collapsed": true
   },
   "outputs": [],
   "source": []
  }
 ],
 "metadata": {
  "kernelspec": {
   "display_name": "Python 3",
   "language": "python",
   "name": "python3"
  },
  "language_info": {
   "codemirror_mode": {
    "name": "ipython",
    "version": 3
   },
   "file_extension": ".py",
   "mimetype": "text/x-python",
   "name": "python",
   "nbconvert_exporter": "python",
   "pygments_lexer": "ipython3",
   "version": "3.6.2"
  }
 },
 "nbformat": 4,
 "nbformat_minor": 2
}
