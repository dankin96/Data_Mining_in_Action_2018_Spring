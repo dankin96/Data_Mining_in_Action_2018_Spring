{
 "cells": [
  {
   "cell_type": "code",
   "execution_count": 6,
   "metadata": {},
   "outputs": [
    {
     "name": "stdout",
     "output_type": "stream",
     "text": [
      "[ 3.96202057  1.65047071  1.48807234  3.10565184  1.36321416  3.7230293\n",
      "  3.43365101  1.71597611  3.00348427  3.0181715   0.41249548  3.61021163\n",
      "  2.02100949  3.30582986  1.2801984 ]\n",
      "None\n",
      "CPU times: user 10.8 ms, sys: 4.19 ms, total: 15 ms\n",
      "Wall time: 16.3 ms\n"
     ]
    },
    {
     "name": "stderr",
     "output_type": "stream",
     "text": [
      "Traceback (most recent call last):\n",
      "  File \"<timed exec>\", line 54, in check\n",
      "  File \"/Users/nickdanilov/Desktop/git_projects/dmia/Data_Mining_in_Action_2018_Spring/industry/hw03/ad_budget_dankin.py\", line 23, in optimize\n",
      "    res = linprog(c, A_ub=A, b_ub=b, bounds=(x0_bounds, x1_bounds))\n",
      "  File \"/Users/nickdanilov/anaconda3/lib/python3.6/site-packages/scipy/optimize/_linprog.py\", line 993, in linprog\n",
      "    bounds=bounds, callback=callback, **options)\n",
      "  File \"/Users/nickdanilov/anaconda3/lib/python3.6/site-packages/scipy/optimize/_linprog.py\", line 673, in _linprog_simplex\n",
      "    n_artificial = meq + np.count_nonzero(bub < 0)\n",
      "ValueError: The truth value of an array with more than one element is ambiguous. Use a.any() or a.all()\n"
     ]
    }
   ],
   "source": [
    "%%time\n",
    "#coding=utf-8\n",
    "\n",
    "from sklearn.datasets import make_classification\n",
    "from sklearn.model_selection import cross_val_score\n",
    "from sklearn.metrics import mean_squared_error\n",
    "import numpy as np\n",
    "import os\n",
    "import imp\n",
    "import signal\n",
    "import traceback\n",
    "import sys\n",
    "import json\n",
    "\n",
    "\n",
    "SCRIPT_DIR = os.path.dirname(os.path.realpath('__file__'))\n",
    "\n",
    "\n",
    "def signal_handler(signum, frame):\n",
    "    raise Exception(\"Timed out!\")\n",
    "\n",
    "\n",
    "class Checker(object):\n",
    "    def __init__(self):\n",
    "        # ВНИМАНИЕ !!!\n",
    "        # При тестировании seed будет изменён\n",
    "        # Не переобучитесь!\n",
    "        random_gen = np.random.RandomState(42)\n",
    "        weights = (0.05 + random_gen.exponential(0.75, size=15)) * 2\n",
    "        X_data = random_gen.uniform(0., 4, size=(40, 15))\n",
    "        errors = random_gen.normal(0., 2., size=40)\n",
    "        split_pos = 25\n",
    "        self.X_train = X_data[:split_pos]\n",
    "        self.errors_train = errors[:split_pos]\n",
    "        self.X_test = X_data[split_pos:]\n",
    "        self.errors_test = errors[split_pos:]\n",
    "        self.weights = weights\n",
    "\n",
    "        self.applications = 0\n",
    "\n",
    "    def check(self, script_path):\n",
    "        try:\n",
    "            signal.signal(signal.SIGALRM, signal_handler)\n",
    "            signal.alarm(240)\n",
    "            algo_impl = imp.load_source('algo_impl_{}'.format(self.applications), script_path)\n",
    "            self.applications += 1\n",
    "            algo = algo_impl.Optimizer()\n",
    "            algo.fit(np.array(self.X_train), np.dot(self.X_train, self.weights) + self.errors_train)\n",
    "            \n",
    "            saved_moneys = 0.\n",
    "            first = 0\n",
    "            second = 0\n",
    "            for budget, target_error in zip(self.X_test, self.errors_test):\n",
    "                origin_budget = np.array(budget)\n",
    "                optimized_budget = np.array(algo.optimize(origin_budget))\n",
    "\n",
    "                if ((origin_budget * 0.95 <= optimized_budget) & (optimized_budget <= origin_budget * 1.05)).all():\n",
    "                    if np.dot(optimized_budget, self.weights) >=  np.dot(origin_budget, self.weights):\n",
    "                        saved_moneys += np.sum(origin_budget) - np.sum(optimized_budget)\n",
    "                        first += np.sum(optimized_budget)\n",
    "                        second += np.sum(origin_budget)\n",
    "            print(first / second)\n",
    "            return saved_moneys\n",
    "        except:\n",
    "            traceback.print_exception(*sys.exc_info())\n",
    "            return None\n",
    "\n",
    "\n",
    "if __name__ == '__main__':\n",
    "    print(Checker().check(SCRIPT_DIR + '/ad_budget_dankin.py'))\n",
    "\n"
   ]
  },
  {
   "cell_type": "code",
   "execution_count": null,
   "metadata": {
    "collapsed": true
   },
   "outputs": [],
   "source": []
  }
 ],
 "metadata": {
  "kernelspec": {
   "display_name": "Python 3",
   "language": "python",
   "name": "python3"
  },
  "language_info": {
   "codemirror_mode": {
    "name": "ipython",
    "version": 3
   },
   "file_extension": ".py",
   "mimetype": "text/x-python",
   "name": "python",
   "nbconvert_exporter": "python",
   "pygments_lexer": "ipython3",
   "version": "3.6.2"
  }
 },
 "nbformat": 4,
 "nbformat_minor": 2
}
