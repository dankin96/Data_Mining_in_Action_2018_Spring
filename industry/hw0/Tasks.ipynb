{
 "cells": [
  {
   "cell_type": "markdown",
   "metadata": {},
   "source": [
    "### Задача 1\n",
    "\n",
    "Что выведет этот код?\n",
    "\n",
    "Ответом на эту задачу является выведенное число, округлённое до 4го знака, дробная часть отделяется **точкой**."
   ]
  },
  {
   "cell_type": "code",
   "execution_count": 6,
   "metadata": {},
   "outputs": [
    {
     "name": "stdout",
     "output_type": "stream",
     "text": [
      "0.9648\n",
      "last\n",
      "0.308649706794626\n"
     ]
    }
   ],
   "source": [
    "from sklearn.datasets import load_breast_cancer\n",
    "from sklearn.ensemble import RandomForestClassifier\n",
    "from sklearn.model_selection import cross_val_score\n",
    "import math\n",
    "\n",
    "X_data, y_data = load_breast_cancer(return_X_y=True)\n",
    "\n",
    "print(round(cross_val_score(RandomForestClassifier(criterion='entropy', n_estimators=42, random_state=42), X_data, y_data, cv=3).mean(),4))\n",
    "\n",
    "# вспмогательный код для того чтобы найти вероятности подбрасывания орла, формулы бернулли по-моему называются\n",
    "def add(n, k):\n",
    "    q = (1/2) ** n\n",
    "    return q*(math.factorial(n)/(math.factorial(k)*math.factorial(n-k)))\n",
    "k = 53 # количество выпадений орла \n",
    "n = 100 # количество подбрасываний всего\n",
    "q = 1/2 # вероятность выпадения орла или решки\n",
    "sum = 0\n",
    "# считаем по форнули бернулли\n",
    "for number in range(n - k + 1):\n",
    "    c = add(n, number)\n",
    "    sum = sum + c\n",
    "    k = k + 1\n",
    "print(\"last\")\n",
    "print(sum)\n",
    "# легко проверить что правильно если протестировать на значениях 10 подбрасываний и 8 выпадений орла в ручную и с помощью кода"
   ]
  },
  {
   "cell_type": "markdown",
   "metadata": {},
   "source": [
    "### Задача 2"
   ]
  },
  {
   "cell_type": "markdown",
   "metadata": {},
   "source": [
    "Напишите свою функцию определения качества модели по следующей метрике: максимальный precision, при условии, что $precision < 1.5 * recall$ и $recall > 0.5$ и определите наилучшее её значение, перебирая гиперпараметры по предложенной сетке"
   ]
  },
  {
   "cell_type": "markdown",
   "metadata": {},
   "source": [
    "Ответом на эту задачу является максимальное значение качества по предложенной метрике, округлённое до 4го знака, дробная часть отделяется **точкой**."
   ]
  },
  {
   "cell_type": "code",
   "execution_count": 1,
   "metadata": {},
   "outputs": [
    {
     "name": "stdout",
     "output_type": "stream",
     "text": [
      "Accuracy best params and score\n",
      "\tParams: {'criterion': 'entropy', 'max_depth': None, 'n_estimators': 50}\n",
      "\tScore: 0.964850615114\n",
      "Custom loss best params and score\n",
      "\tParams: {'criterion': 'gini', 'max_depth': None, 'n_estimators': 10}\n",
      "\tScore: 0.968819611066\n"
     ]
    }
   ],
   "source": [
    "from sklearn.model_selection import GridSearchCV\n",
    "from sklearn.metrics import make_scorer\n",
    "from sklearn.ensemble import RandomForestClassifier\n",
    "from sklearn.datasets import load_breast_cancer\n",
    "from sklearn.metrics import precision_score\n",
    "from sklearn.metrics import recall_score\n",
    "\n",
    "param_grid = {\n",
    "    'n_estimators': [10, 20, 30, 40, 50],\n",
    "    'max_depth': [None, 5, 10, 15, 20],\n",
    "    'criterion': ['entropy', 'gini']\n",
    "}\n",
    "\n",
    "X_data, y_data = load_breast_cancer(return_X_y=True)\n",
    "\n",
    "estimator = RandomForestClassifier(random_state=42)\n",
    "\n",
    "print('Accuracy best params and score')\n",
    "result = GridSearchCV(estimator, param_grid, cv=3, scoring='accuracy').fit(X_data, y_data)\n",
    "print('\\tParams:', result.best_params_)\n",
    "print('\\tScore:', result.best_score_)\n",
    "\n",
    "# наша функция потерь, с заданными условиями, считаем recall и precision встроенными методами для каждых параметров\n",
    "def my_custom_loss_func(y_true, y_pred):\n",
    "    recall = recall_score(y_true, y_pred)\n",
    "    precision = precision_score(y_true, y_pred)\n",
    "    if (precision < (1.5 * recall) and recall > 0.5):\n",
    "        return precision\n",
    "    else:\n",
    "        return 0\n",
    "# создаем объект класса scorer для того чтобы передать в параметры функции GridSearchCV\n",
    "scorer = make_scorer(my_custom_loss_func, greater_is_better=True)\n",
    "\n",
    "print('Custom loss best params and score')\n",
    "result = GridSearchCV(estimator, param_grid, cv=3, scoring=scorer).fit(X_data, y_data)\n",
    "print('\\tParams:', result.best_params_)\n",
    "print('\\tScore:', result.best_score_)"
   ]
  },
  {
   "cell_type": "markdown",
   "metadata": {},
   "source": [
    "### Задача 3"
   ]
  },
  {
   "cell_type": "markdown",
   "metadata": {},
   "source": [
    "Какова минимальная сторона квадрата с параллельными осям сторонами, содержащего все точки из $X$? \n",
    "\n",
    "Ответом на эту задачу является число, округлённое до 2го знака, дробная часть отделяется точкой."
   ]
  },
  {
   "cell_type": "code",
   "execution_count": 3,
   "metadata": {},
   "outputs": [
    {
     "name": "stdout",
     "output_type": "stream",
     "text": [
      "[[ 17.99  10.38]\n",
      " [ 20.57  17.77]\n",
      " [ 19.69  21.25]\n",
      " ..., \n",
      " [ 16.6   28.08]\n",
      " [ 20.6   29.33]\n",
      " [  7.76  24.54]]\n",
      "\n",
      "\n",
      "[ 6.981  9.71 ]\n",
      "\n",
      "\n",
      "[ 28.11  39.28]\n",
      "[ 21.129  29.57 ]\n"
     ]
    }
   ],
   "source": [
    "from sklearn.datasets import load_breast_cancer\n",
    "\n",
    "''' чтобы найти квадарт с минимальной стороной, который будет содержать в себе все точки, \n",
    "    нужно найти максимальные координаты самой левой и правой точек, а также самой верхней и нижней точек\n",
    "    посчитать расстояния между ними, и максимальная сторона из них и будет ответом (легко представить\n",
    "    если нарисовать немного точек)\n",
    "'''\n",
    "data = load_breast_cancer()\n",
    "X = data.data[:, :2]\n",
    "print(X)\n",
    "print(\"\\n\")\n",
    "# ищем минимальные координаты левой и нижней точки\n",
    "print(X.min(axis=0))\n",
    "print(\"\\n\")\n",
    "# ищем минимальные координаты правой и верхней точки\n",
    "print(X.max(axis=0))\n",
    "# вычитаем координаты и находим две стороны, выбираем максимальную\n",
    "print((X.max(axis=0) - X.min(axis=0)))\n"
   ]
  },
  {
   "cell_type": "code",
   "execution_count": null,
   "metadata": {
    "collapsed": true
   },
   "outputs": [],
   "source": []
  }
 ],
 "metadata": {
  "kernelspec": {
   "display_name": "Python 3",
   "language": "python",
   "name": "python3"
  },
  "language_info": {
   "codemirror_mode": {
    "name": "ipython",
    "version": 3
   },
   "file_extension": ".py",
   "mimetype": "text/x-python",
   "name": "python",
   "nbconvert_exporter": "python",
   "pygments_lexer": "ipython3",
   "version": "3.6.3"
  }
 },
 "nbformat": 4,
 "nbformat_minor": 2
}
