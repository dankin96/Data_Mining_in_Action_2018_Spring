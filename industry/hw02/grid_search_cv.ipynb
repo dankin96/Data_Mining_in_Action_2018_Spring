{
 "cells": [
  {
   "cell_type": "code",
   "execution_count": 83,
   "metadata": {},
   "outputs": [
    {
     "name": "stdout",
     "output_type": "stream",
     "text": [
      "//\n",
      "{'learning_rate': 0.015, 'max_depth': 8, 'min_child_weight': 14, 'n_estimators': 400, 'seed': 42}\n",
      "0.782785519035\n",
      "CPU times: user 13.1 s, sys: 130 ms, total: 13.3 s\n",
      "Wall time: 13.4 s\n"
     ]
    }
   ],
   "source": [
    "%%time\n",
    "#coding=utf-8\n",
    "\n",
    "from sklearn.model_selection import cross_val_score\n",
    "from sklearn.model_selection import GridSearchCV\n",
    "import xgboost as xgb\n",
    "import pandas\n",
    "import numpy as np\n",
    "import signal\n",
    "import os\n",
    "import json\n",
    "import sys\n",
    "\n",
    "\n",
    "SCRIPT_DIR = os.path.dirname(os.path.realpath('__file__'))\n",
    "\n",
    "\n",
    "def signal_handler(signum, frame):\n",
    "    raise Exception(\"Timed out!\")\n",
    "\n",
    "\n",
    "class Checker(object):\n",
    "    def __init__(self, data_path=SCRIPT_DIR + '/../seminar02/HR.csv'):\n",
    "        df = pandas.read_csv(data_path)\n",
    "        target = 'left'\n",
    "        features = [c for c in df if c != target]\n",
    "        self.target = np.array(df[target])\n",
    "        self.data = np.array(df[features])\n",
    "\n",
    "    def check(self):\n",
    "            parameter_candidates = { \n",
    "            \"learning_rate\": [0.015],\n",
    "            \"max_depth\": [8], \n",
    "            \"n_estimators\": [400], \n",
    "            \"min_child_weight\": [14], \n",
    "            \"seed\": [42]\n",
    "            }\n",
    "            clf = GridSearchCV(estimator=xgb.XGBClassifier(), \n",
    "                    param_grid=parameter_candidates,\n",
    "                    refit=True, scoring='accuracy', verbose=0, \n",
    "                    cv=3\n",
    "            )\n",
    "            clf.fit(self.data, self.target)\n",
    "            print(clf.best_params_)\n",
    "            score = clf.best_score_\n",
    "            return score\n",
    "\n",
    "\n",
    "if __name__ == '__main__':\n",
    "    print(\"//\")\n",
    "    print(Checker().check())"
   ]
  },
  {
   "cell_type": "code",
   "execution_count": null,
   "metadata": {
    "collapsed": true
   },
   "outputs": [],
   "source": []
  },
  {
   "cell_type": "code",
   "execution_count": null,
   "metadata": {
    "collapsed": true
   },
   "outputs": [],
   "source": []
  },
  {
   "cell_type": "code",
   "execution_count": null,
   "metadata": {
    "collapsed": true
   },
   "outputs": [],
   "source": []
  }
 ],
 "metadata": {
  "kernelspec": {
   "display_name": "Python 3",
   "language": "python",
   "name": "python3"
  },
  "language_info": {
   "codemirror_mode": {
    "name": "ipython",
    "version": 3
   },
   "file_extension": ".py",
   "mimetype": "text/x-python",
   "name": "python",
   "nbconvert_exporter": "python",
   "pygments_lexer": "ipython3",
   "version": "3.6.2"
  }
 },
 "nbformat": 4,
 "nbformat_minor": 2
}
