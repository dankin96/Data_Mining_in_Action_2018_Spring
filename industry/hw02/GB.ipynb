{
 "cells": [
  {
   "cell_type": "code",
   "execution_count": 1,
   "metadata": {},
   "outputs": [
    {
     "name": "stdout",
     "output_type": "stream",
     "text": [
      "dankin.py 0.780185437087\n"
     ]
    }
   ],
   "source": [
    "import os\n",
    "from gb_impl_checker import Checker\n",
    "import json\n",
    "\n",
    "\n",
    "if __name__ == '__main__':\n",
    "    checker = Checker()\n",
    "    scores = {}\n",
    "    results = {}\n",
    "    for filename in os.listdir('simple_gb'):\n",
    "        if filename.endswith('.py'):\n",
    "            name = '_'.join(filename.split()[0].split('_')[-1:]).strip()\n",
    "            score = checker.check('simple_gb/' + filename)\n",
    "            print(name, score)\n",
    "            if score is not None:\n",
    "                results[name] = score\n",
    "            else:\n",
    "                scores[name] = 0.025\n",
    "\n",
    "    best_neg_mse = max(results.values())\n",
    "    for name in results:\n",
    "        scores[name] = max(round(2 ** (0.5 * (results[name] - best_neg_mse)), 3), 0.05)\n",
    "\n",
    "    with open('simple_gb_results.json', 'w') as f:\n",
    "        json.dump(scores, f, indent=4)\n",
    "\n",
    "    with open('simple_gb_results.csv', 'w') as f:\n",
    "        for name in sorted(scores):\n",
    "            f.write('{},{}\\n'.format(name, scores[name]))\n",
    "\n"
   ]
  },
  {
   "cell_type": "code",
   "execution_count": null,
   "metadata": {
    "collapsed": true
   },
   "outputs": [],
   "source": []
  },
  {
   "cell_type": "code",
   "execution_count": null,
   "metadata": {
    "collapsed": true
   },
   "outputs": [],
   "source": []
  },
  {
   "cell_type": "code",
   "execution_count": null,
   "metadata": {
    "collapsed": true
   },
   "outputs": [],
   "source": []
  }
 ],
 "metadata": {
  "kernelspec": {
   "display_name": "Python 3",
   "language": "python",
   "name": "python3"
  },
  "language_info": {
   "codemirror_mode": {
    "name": "ipython",
    "version": 3
   },
   "file_extension": ".py",
   "mimetype": "text/x-python",
   "name": "python",
   "nbconvert_exporter": "python",
   "pygments_lexer": "ipython3",
   "version": "3.6.2"
  }
 },
 "nbformat": 4,
 "nbformat_minor": 2
}
